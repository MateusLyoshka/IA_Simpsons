{
 "cells": [
  {
   "cell_type": "markdown",
   "id": "a028fc1b",
   "metadata": {},
   "source": [
    "# Classificação dos personagens dos Simpsons\n",
    "\n",
    "Alunos: Alexandre Borges Baccarini Júnior - 2515520\n",
    "        Leonardo\n",
    "        Mateus\n",
    "\n",
    "## Objetivo\n",
    "\n",
    "Desenvolver um sistema inteligente para classificação de personagens da série Os Simpsons utilizando os classificadores k-NN e SVM.\n"
   ]
  },
  {
   "cell_type": "markdown",
   "id": "a16311fb",
   "metadata": {},
   "source": [
    "### Importar as bibliotecas"
   ]
  },
  {
   "cell_type": "code",
   "execution_count": null,
   "id": "e46418af",
   "metadata": {
    "vscode": {
     "languageId": "plaintext"
    }
   },
   "outputs": [],
   "source": [
    "#Importar as bibliotecas - code"
   ]
  },
  {
   "cell_type": "markdown",
   "id": "a63d663e",
   "metadata": {},
   "source": [
    "### Carregamento e Pré-processamento dos Dados"
   ]
  },
  {
   "cell_type": "code",
   "execution_count": null,
   "id": "849898ab",
   "metadata": {
    "vscode": {
     "languageId": "plaintext"
    }
   },
   "outputs": [],
   "source": [
    "#Carregamento e Pré-processamento dos Dados - code"
   ]
  },
  {
   "cell_type": "markdown",
   "id": "632f22eb",
   "metadata": {},
   "source": [
    "### Extração de Características"
   ]
  },
  {
   "cell_type": "code",
   "execution_count": null,
   "id": "9b16c809",
   "metadata": {
    "vscode": {
     "languageId": "plaintext"
    }
   },
   "outputs": [],
   "source": [
    "#Extração de Características - code"
   ]
  },
  {
   "cell_type": "markdown",
   "id": "9a70c308",
   "metadata": {},
   "source": [
    "### Divisão dos Dados e Validação"
   ]
  },
  {
   "cell_type": "code",
   "execution_count": null,
   "id": "cefdc458",
   "metadata": {
    "vscode": {
     "languageId": "plaintext"
    }
   },
   "outputs": [],
   "source": [
    "#Divisão dos Dados e Validação Cruzada - code"
   ]
  },
  {
   "cell_type": "markdown",
   "id": "14266fa3",
   "metadata": {},
   "source": [
    "### Treinamento e Avaliação dos Modelos\n",
    "#### k-NN"
   ]
  },
  {
   "cell_type": "code",
   "execution_count": null,
   "id": "92a682f8",
   "metadata": {
    "vscode": {
     "languageId": "plaintext"
    }
   },
   "outputs": [],
   "source": [
    "#k-NN - code"
   ]
  },
  {
   "cell_type": "markdown",
   "id": "3d7d7e4f",
   "metadata": {},
   "source": [
    "#### VSM"
   ]
  },
  {
   "cell_type": "code",
   "execution_count": null,
   "id": "4b5f2350",
   "metadata": {
    "vscode": {
     "languageId": "plaintext"
    }
   },
   "outputs": [],
   "source": [
    "#VSM - code"
   ]
  },
  {
   "cell_type": "markdown",
   "id": "f1d08c42",
   "metadata": {},
   "source": [
    "### Comparação dos Modelos"
   ]
  },
  {
   "cell_type": "code",
   "execution_count": null,
   "id": "b26647df",
   "metadata": {
    "vscode": {
     "languageId": "plaintext"
    }
   },
   "outputs": [],
   "source": [
    "#comparação -code"
   ]
  },
  {
   "cell_type": "markdown",
   "id": "b05b53e9",
   "metadata": {},
   "source": [
    "### Análise de Erros"
   ]
  },
  {
   "cell_type": "code",
   "execution_count": null,
   "id": "1d8aa761",
   "metadata": {
    "vscode": {
     "languageId": "plaintext"
    }
   },
   "outputs": [],
   "source": [
    "#Análise de Erros - code"
   ]
  }
 ],
 "metadata": {
  "language_info": {
   "name": "python"
  }
 },
 "nbformat": 4,
 "nbformat_minor": 5
}
